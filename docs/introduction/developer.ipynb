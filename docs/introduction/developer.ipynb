{
 "cells": [
  {
   "cell_type": "markdown",
   "metadata": {
    "collapsed": true,
    "pycharm": {
     "name": "#%% md\n"
    }
   },
   "source": [
    "# Developer Quick Start\n",
    "<sub>Note if you are viewing this on github, you may need to view it on Google Colab [![Open In GoogleColab](https://colab.research.google.com/assets/colab-badge.svg)](https://colab.research.google.com/github/Ahuge/sept/blob/release/docs/introduction/developer.ipynb)</sub>  \n",
    "\n",
    "## Introduction\n",
    "\n",
    "This ``Developer Quick Start`` guide tries to demonstrate\n",
    "\n",
    "- How to integrate ``SEPT`` into your existing application\n",
    "- Building a simple Qt application that uses ``SEPT`` and Shotgun to build output paths"
   ]
  },
  {
   "cell_type": "markdown",
   "source": [
    "## Common SEPT Concepts\n",
    "Before continuing with this tutorial, there are a few components of `SEPT` that you should be aware of.\n",
    "\n",
    "### PathTemplateParser\n",
    "This is the main driver of `SEPT`. You will instantiate this class and pass it your template strings to validate and construct `sept.Template` objects from.  \n",
    "  \n",
    "You can also output html documentation data from this class based on the state of `Token` and `Operator` classes configured in your environment. \n",
    "\n",
    "### Token\n",
    "This is a code based resolver that will create a keyword for the User to type and contains logic for resolving that value out of a dictionary of data.  \n",
    "`SEPT` starts with a basic `DefaultToken` which will automatically resolve any `Token` for top level keys in your dictionary.  \n",
    "This means that if you have the data `{\"name\": \"Alex\"}`, your User can use the \"name\" `Token` without you having to write any code.\n",
    "Your custom `Token` classes need to have a `name` attribute which is the keyword the User can type and a method called `getValue(data: dict) -> str|None` that resolves the correct value from the dictionary.     \n",
    "\n",
    "### Operator\n",
    "This is a way to allow the User to mutate data from your `Token` classes. It's implementation is a bit beyond the scope of this document. `SEPT` comes with several `Operator` classes out of the box.  \n"
   ],
   "metadata": {
    "collapsed": false,
    "pycharm": {
     "name": "#%% md\n"
    }
   }
  },
  {
   "cell_type": "markdown",
   "source": [
    "## Sample Qt Application\n",
    "In this tutorial we are going to create a simple Qt4 based dialog that gives the user the ability to edit a `SEPT` template and get live feedback.  \n",
    "In addition to being able to see their updates in realtime, we will also provide a help documentation dialog that will be automatically generated based on the `Token` objects we expose to the user.  \n",
    "  \n",
    "An example of what our application will look like when you are finished is shown below:\n",
    "\n",
    "![Finished Qt Application from the Sample Qt Application Developer Tutorial](../images/developer_introduction_sample_qt_application_finished.gif)\n",
    "\n",
    "\n",
    "### Prerequisites\n",
    "You should have an intermediate understanding of using the Qt Gui framework to continue through this part of the tutorial.  \n",
    "If you have experience with C++ Qt4, PySide, PySide2, PyQt4, or PyQt5 your knowledge should transfer over.  \n",
    "  \n",
    "Starting off our application, we will need to install any dependencies.  "
   ],
   "metadata": {
    "collapsed": false
   }
  },
  {
   "cell_type": "code",
   "execution_count": null,
   "outputs": [],
   "source": [
    "!pip install PySide2 sept"
   ],
   "metadata": {
    "collapsed": false,
    "pycharm": {
     "name": "#%%\n"
    }
   }
  },
  {
   "cell_type": "markdown",
   "source": [
    "### Documentation Widget\n",
    "We are going to start working on our documentation widget which will be a simple QWebView with html data populated by our `SEPT` parser object.\n",
    "  \n",
    "  \n",
    "__documentation_widget.py__"
   ],
   "metadata": {
    "collapsed": false
   }
  },
  {
   "cell_type": "code",
   "source": [
    "# documentation_widget.py\n",
    "from PySide2 import QtWidgets, QtWebEngineWidgets\n",
    "\n",
    "class DocumentationWidget(QtWidgets.QWidget):\n",
    "    def __init__(self, sept_parser, parent=None):\n",
    "        super(DocumentationWidget, self).__init__(parent)\n",
    "        self.sept_parser = sept_parser\n",
    "        self.webview = QtWebEngineWidgets.QWebEngineView()\n",
    "        self.setLayout(QtWidgets.QVBoxLayout())\n",
    "        self.layout().addWidget(self.webview)\n",
    "\n",
    "    def refreshDocumentation(self):\n",
    "        token_html = self.sept_parser.token_documentation()\n",
    "        operator_html = self.sept_parser.operator_documentation()\n",
    "        self.webview.setHtml(token_html + operator_html)"
   ],
   "metadata": {
    "collapsed": false,
    "pycharm": {
     "name": "#%%\n"
    }
   },
   "execution_count": null,
   "outputs": []
  },
  {
   "cell_type": "markdown",
   "source": [
    "We have created a fairly basic QWidget object that contains a single QWebView that we can set the html data on from the `sept.PathTemplateParser`documentation methods `token_documentation` and `operator_documentation`.  \n",
    "  \n",
    "If we want to display this widget, we can add the following code at the bottom of `documentation_widget.py`"
   ],
   "metadata": {
    "collapsed": false
   }
  },
  {
   "cell_type": "code",
   "execution_count": null,
   "outputs": [],
   "source": [
    "if __name__ == \"__main__\":\n",
    "    from sept import PathTemplateParser\n",
    "    application = QtWidgets.QApplication([])\n",
    "    parser = PathTemplateParser()\n",
    "    doc_widget = DocumentationWidget(\n",
    "        sept_parser=parser\n",
    "    )\n",
    "    doc_widget.show()\n",
    "    doc_widget.refreshDocumentation()\n",
    "    try:\n",
    "        from IPython.lib.guisupport import start_event_loop_qt4\n",
    "        start_event_loop_qt4(application)\n",
    "    execpt Import Error:\n",
    "        application.exec_()\n",
   ],
   "metadata": {
    "collapsed": false,
    "pycharm": {
     "name": "#%% \n"
    }
   }
  },
  {
   "cell_type": "markdown",
   "source": [
    "This will popup a dialog that should look similar to this  \n",
    "![Basic Documentation Qt Widget](../images/developer_introduction_sample_qt_application_documentation_widget_1.png)\n",
    "\n",
    "You should be able to scroll through the page as if it was a webpage (spoilers it is).  "
   ],
   "metadata": {
    "collapsed": false,
    "pycharm": {
     "name": "#%% md\n"
    }
   }
  },
  {
   "cell_type": "markdown",
   "source": [
    "#### Advanced Documentation Widget\n",
    "Now it feels a little bit silly to have our `Token` documentation sitting on top of our `Operator` documentation.  \n",
    "Lets separate these out into a separate tabs.  \n",
    "  \n",
    "To do this, we can change our DocumentationWidget into a `QTabWidget` and create a separate `QWebView` for each tab.  \n",
    "Let's first change our base class from a `QWidget` to `QTabWidget`"
   ],
   "metadata": {
    "collapsed": false
   }
  },
  {
   "cell_type": "code",
   "execution_count": null,
   "outputs": [],
   "source": [
    "# documentation_widget.py\n",
    "from PySide2 import QtWidgets\n",
    "\n",
    "class DocumentationWidget(QtWidgets.QTabWidget):\n",
    "    def __init__(self, sept_parser, parent=None):\n",
    "        super(DocumentationWidget, self).__init__(parent)\n",
    "        self.sept_parser = sept_parser\n",
    "        ..."
   ],
   "metadata": {
    "collapsed": false,
    "pycharm": {
     "name": "#%%\n"
    }
   }
  },
  {
   "cell_type": "markdown",
   "source": [
    "Now that we are a `QTabWidget` instead of a `QWidget` we should be adding our `QWebView` via `QTabWidget.addTab` instead of adding it to the layout directly.  \n",
    " "
   ],
   "metadata": {
    "collapsed": false,
    "pycharm": {
     "name": "#%% md\n"
    }
   }
  },
  {
   "cell_type": "code",
   "execution_count": null,
   "outputs": [],
   "source": [
    "# documentation_widget.py\n",
    "from PySide2 import QtWidgets, QtWebEngineWidgets\n",
    "\n",
    "class DocumentationWidget(QtWidgets.QTabWidget):\n",
    "    def __init__(self, sept_parser, parent=None):\n",
    "        super(DocumentationWidget, self).__init__(parent)\n",
    "        self.sept_parser = sept_parser\n",
    "        self.webview = QtWebEngineWidgets.QWebEngineView()\n",
    "        # self.setLayout(QtGui.QVBoxLayout())\n",
    "        # self.layout().addWidget(self.webview)\n",
    "        self.addTab(self.webview, \"Tokens\")\n",
    "        ..."
   ],
   "metadata": {
    "collapsed": false,
    "pycharm": {
     "name": "#%%\n"
    }
   }
  },
  {
   "cell_type": "markdown",
   "source": [
    "Now to separate out our documentation into two tabs is fairly simple, we just create two web views and call `setHtml` on each of them individually.  "
   ],
   "metadata": {
    "collapsed": false
   }
  },
  {
   "cell_type": "code",
   "execution_count": null,
   "outputs": [],
   "source": [
    "# documentation_widget.py\n",
    "from PySide2 import QtWidgets, QtWebEngineWidgets\n",
    "\n",
    "class DocumentationWidget(QtWidgets.QTabWidget):\n",
    "    def __init__(self, sept_parser, parent=None):\n",
    "        super(DocumentationWidget, self).__init__(parent)\n",
    "        self.sept_parser = sept_parser\n",
    "        self.token_webview = QtWebEngineWidgets.QWebEngineView()\n",
    "        self.operator_webview = QtWebEngineWidgets.QWebEngineView()\n",
    "        self.addTab(self.token_webview, \"Tokens\")\n",
    "        self.addTab(self.operator_webview, \"Operator\")\n",
    "\n",
    "    def refreshDocumentation(self):\n",
    "        token_html = self.sept_parser.token_documentation()\n",
    "        operator_html = self.sept_parser.operator_documentation()\n",
    "        self.token_webview.setHtml(token_html)\n",
    "        self.operator_webview.setHtml(operator_html)\n"
   ],
   "metadata": {
    "collapsed": false,
    "pycharm": {
     "name": "#%% \n"
    }
   }
  },
  {
   "cell_type": "code",
   "execution_count": null,
   "outputs": [],
   "source": [
    "if __name__ == \"__main__\":\n",
    "    from sept import PathTemplateParser\n",
    "    application = QtWidgets.QApplication([])\n",
    "    parser = PathTemplateParser()\n",
    "    doc_widget = DocumentationWidget(\n",
    "        sept_parser=parser\n",
    "    )\n",
    "    doc_widget.show()\n",
    "    doc_widget.refreshDocumentation()\n",
    "    try:\n",
    "        from IPython.lib.guisupport import start_event_loop_qt4\n",
    "        start_event_loop_qt4(application)\n",
    "    execpt Import Error:\n",
    "        application.exec_()\n",
   ],
   "metadata": {
    "collapsed": false,
    "pycharm": {
     "name": "#%% \n"
    }
   }
  },
  {
   "cell_type": "markdown",
   "source": [
    "You should now have a dialog that looks similar to this  \n",
    " \n",
    "![Finished Documentation Qt Widget](../images/developer_introduction_sample_qt_application_documentation_widget_2.png)\n",
    "\n",
    "If your dialog is similar you should be ready to move on to the next step."
   ],
   "metadata": {
    "collapsed": false
   }
  },
  {
   "cell_type": "markdown",
   "source": [
    "### Preview Widget\n",
    "Our second part of this example is some widget that will render a preview of the resulting `sept.Template` object.  \n",
    "\n",
    "We will build this off of a `QPlainTextEdit` widget."
   ],
   "metadata": {
    "collapsed": false
   }
  },
  {
   "cell_type": "code",
   "execution_count": null,
   "outputs": [],
   "source": [
    "# preview_widget.py\n",
    "from PySide2 import QtWidgets\n",
    "\n",
    "from sept import errors\n",
    "\n",
    "\n",
    "class PreviewWidget(QtWidgets.QPlainTextEdit):\n",
    "    def __init__(self, sept_parser, examples, text=None, parent=None):\n",
    "        super(PreviewWidget, self).__init__(text, parent)\n",
    "        self.setReadOnly(True)\n",
    "        self.sept_parser = sept_parser\n",
    "        self.examples = examples\n",
    "        self.setEnabled(False)\n",
    "\n",
    "    def preview_template_str(self, template_str):\n",
    "        previews = []\n",
    "        for example in self.examples:\n",
    "            try:\n",
    "                template = self.sept_parser.validate_template(template_str)\n",
    "                output_path = template.resolve(example)\n",
    "            except errors.ParsingError as err:\n",
    "                print(str(err))\n",
    "                return\n",
    "            previews.append(output_path)\n",
    "        text = \"\\n\".join(previews)\n",
    "        self.setPlainText(text)\n",
    "\n",
    "if __name__ == \"__main__\":\n",
    "    from sept import PathTemplateParser\n",
    "    application = QtWidgets.QApplication([])\n",
    "    parser = PathTemplateParser()\n",
    "    examples = [\n",
    "        {\n",
    "            \"Project\": \"HeroJourney\",\n",
    "            \"sequence\": \"Battle\",\n",
    "            \"shot\": \"001\",\n",
    "            \"step\": \"comp\",\n",
    "            \"version\": 2,\n",
    "            \"extension\": \"mov\",\n",
    "        }\n",
    "    ]\n",
    "    preview_widget = PreviewWidget(\n",
    "        sept_parser=parser,\n",
    "        examples=examples\n",
    "    )\n",
    "    preview_widget.show()\n",
    "    preview_widget.preview_template_str(\n",
    "        \"{{sequence}}_{{shot}}_v{{pad[3,0]:version}}.{{extension}}\"\n",
    "    )\n",
    "    try:\n",
    "        from IPython.lib.guisupport import start_event_loop_qt4\n",
    "        start_event_loop_qt4(application)\n",
    "    execpt Import Error:\n",
    "        application.exec_()\n",
   ],
   "metadata": {
    "collapsed": false,
    "pycharm": {
     "name": "#%%\n"
    }
   }
  },
  {
   "cell_type": "markdown",
   "source": [
    "This will popup a dialog that should look similar to this  \n",
    "![Only Preview Qt Widget](../images/developer_introduction_sample_qt_application_preview_widget_1.png)\n",
    "\n",
    "You won't be able to do anything because we haven't added an input text box yet.\n",
    "  "
   ],
   "metadata": {
    "collapsed": false,
    "pycharm": {
     "name": "#%% md\n"
    }
   }
  },
  {
   "cell_type": "markdown",
   "source": [
    "Next thing to do would be adding an input box so that we can type our own template str in.\n",
    "\n",
    "We are going to make a `QWidget` class that will contain our input widget and our `PreviewWidget`."
   ],
   "metadata": {
    "collapsed": false
   }
  },
  {
   "cell_type": "code",
   "execution_count": null,
   "outputs": [],
   "source": [
    "# preview_widget.py\n",
    "\n",
    "...\n",
    "\n",
    "class PreviewInputWidget(QtWidgets.QWidget):\n",
    "    def __init__(self, sept_parser, examples, parent=None):\n",
    "        super(PreviewInputWidget, self).__init__(parent)\n",
    "\n",
    "        self.input_widget = QtWidgets.QLineEdit(self)\n",
    "        self.preview_widget = PreviewWidget(\n",
    "            sept_parser=sept_parser,\n",
    "            examples=examples,\n",
    "            parent=self\n",
    "        )\n",
    "        \n",
    "        self.setLayout(QtGui.QVBoxLayout())\n",
    "        self.layout().addWidget(self.input_widget)\n",
    "        self.layout().addWidget(self.preview_widget)\n",
    "\n",
    "\n",
    "if __name__ == \"__main__\":\n",
    "    from sept import PathTemplateParser\n",
    "    application = QtWidgets.QApplication([])\n",
    "    parser = PathTemplateParser()\n",
    "    examples = [\n",
    "        {\n",
    "            \"Project\": \"HeroJourney\",\n",
    "            \"sequence\": \"Battle\",\n",
    "            \"shot\": \"001\",\n",
    "            \"step\": \"comp\",\n",
    "            \"version\": 2,\n",
    "            \"extension\": \"mov\",\n",
    "        }\n",
    "    ]\n",
    "    preview_widget = PreviewInputWidget(\n",
    "        sept_parser=parser,\n",
    "        examples=examples\n",
    "    )\n",
    "    preview_widget.show()\n",
    "    # preview_widget.preview_template_str(\n",
    "    #     \"{{sequence}}_{{shot}}_v{{pad[3,0]:version}}.{{extension}}\"\n",
    "    # )\n",
    "    try:\n",
    "        from IPython.lib.guisupport import start_event_loop_qt4\n",
    "        start_event_loop_qt4(application)\n",
    "    execpt Import Error:\n",
    "        application.exec_()\n",
   ],
   "metadata": {
    "collapsed": false,
    "pycharm": {
     "name": "#%%\n"
    }
   }
  },
  {
   "cell_type": "markdown",
   "source": [
    "Now we have a dialog that also contains an input  \n",
    "![Unlinked Input Qt Widget](../images/developer_introduction_sample_qt_application_preview_widget_2.png)\n",
    "\n",
    "However...When we type into the input nothing happens, we need to connect some Qt signals.\n",
    "\n",
    "We want to listen to the `textChanged` signal from our `QLineEdit` and link that to our `PreviewWidget.preview_template_str` method.  \n",
    "To do that we need to first make `preview_template_str` a slot and then add a `connect` call."
   ],
   "metadata": {
    "collapsed": false
   }
  },
  {
   "cell_type": "code",
   "execution_count": null,
   "outputs": [],
   "source": [
    "# preview_widget.py\n",
    "from PySide2 import QtGui, QtCore\n",
    "\n",
    "from sept import errors\n",
    "\n",
    "\n",
    "class PreviewWidget(QtGui.QPlainTextEdit):\n",
    "    def __init__(self, sept_parser, examples, text=None, parent=None):\n",
    "        super(PreviewWidget, self).__init__(text, parent)\n",
    "        self.setReadOnly(True)\n",
    "        self.sept_parser = sept_parser\n",
    "        self.examples = examples\n",
    "        self.setEnabled(False)\n",
    "\n",
    "    # Turn preview_template_str into a Qt Slot\n",
    "    @QtCore.Slot(str)\n",
    "    def preview_template_str(self, template_str):\n",
    "        ...\n",
    "\n",
    "class PreviewInputWidget(QtGui.QWidget):\n",
    "    def __init__(self, sept_parser, examples, parent=None):\n",
    "        super(PreviewInputWidget, self).__init__(parent)\n",
    "\n",
    "        self.input_widget = QtGui.QLineEdit(self)\n",
    "        self.preview_widget = PreviewWidget(\n",
    "            sept_parser=sept_parser,\n",
    "            examples=examples,\n",
    "            parent=self\n",
    "        )\n",
    "        # Add our connect line here\n",
    "        self.input_widget.textChanged.connect(\n",
    "            self.preview_widget.preview_template_str\n",
    "        )\n",
    "        ..."
   ],
   "metadata": {
    "collapsed": false,
    "pycharm": {
     "name": "#%%\n"
    }
   }
  },
  {
   "cell_type": "markdown",
   "source": [
    "Perfect, now our widgets should talk to each other!  \n",
    "![Linked Input Qt Widget](../images/developer_introduction_sample_qt_application_preview_widget_final.gif)"
   ],
   "metadata": {
    "collapsed": false,
    "pycharm": {
     "name": "#%% md\n"
    }
   }
  },
  {
   "cell_type": "markdown",
   "source": [
    "### Putting It All Together\n",
    "Now that we have our two main components, we can put them together into an application.  \n",
    "In addition to making a containing dialog for these widgets, we are going to define some custom `Token` classes and demonstrate our `DocumentationWidget` automatically updating.  "
   ],
   "metadata": {
    "collapsed": false,
    "pycharm": {
     "name": "#%% md\n"
    }
   }
  },
  {
   "cell_type": "code",
   "execution_count": null,
   "outputs": [],
   "source": [
    "# sept_sample_dialog.py\n",
    "from PySide import QtGui\n",
    "\n",
    "from sept import PathTemplateParser\n",
    "\n",
    "\n",
    "from .preview_widget import PreviewInputWidget\n",
    "from .documentation_widget import DocumentationWidget\n",
    "\n",
    "\n",
    "class SeptSampleDialog(QtGui.QWidget):\n",
    "    def __init__(self, parent=None):\n",
    "        super(SeptSampleDialog, self).__init__(parent)\n",
    "\n",
    "        self.sept_parser = PathTemplateParser()\n",
    "\n",
    "        self.setLayout(QtGui.QHBoxLayout())\n",
    "\n",
    "        self.preview_widget = PreviewInputWidget(\n",
    "            sept_parser=self.sept_parser,\n",
    "            examples=self.get_examples(),\n",
    "            parent=self\n",
    "        )\n",
    "        self.documentation_widget = DocumentationWidget(\n",
    "            sept_parser=self.sept_parser\n",
    "        )\n",
    "        self.documentation_widget.refreshDocumentation()\n",
    "\n",
    "        self.layout().addWidget(self.preview_widget)\n",
    "        self.layout().addWidget(self.documentation_widget)\n",
    "\n",
    "    def get_examples(self):\n",
    "        return [\n",
    "            {\n",
    "                \"Project\": \"HeroJourney\",\n",
    "                \"sequence\": \"Battle\",\n",
    "                \"shot\": \"001\",\n",
    "                \"step\": \"comp\",\n",
    "                \"version\": 2,\n",
    "                \"extension\": \"mov\",\n",
    "            },\n",
    "            {\n",
    "                \"Project\": \"HeroJourney\",\n",
    "                \"sequence\": \"Battle\",\n",
    "                \"shot\": \"002\",\n",
    "                \"step\": \"paint\",\n",
    "                \"version\": 1,\n",
    "                \"extension\": \"mov\",\n",
    "            }\n",
    "        ]\n",
    "\n",
    "\n",
    "if __name__ == \"__main__\":\n",
    "    application = QtGui.QApplication([])\n",
    "    dialog = SeptSampleDialog()\n",
    "    dialog.show()\n",
    "    application.exec_()"
   ],
   "metadata": {
    "collapsed": false,
    "pycharm": {
     "name": "#%%\n"
    }
   }
  },
  {
   "cell_type": "markdown",
   "source": [
    "Perfect! This is our dialog all put together.  \n",
    "![Qt Widget Missing Custom Tokens](../images/developer_introduction_sample_qt_application_all_widgets_1.gif)\n",
    "  \n",
    "We will now modify the data so that we need to use a custom `Token` to provide data.  \n",
    "  \n",
    "In production, you can turn off the `DefaultToken` and only allow `Token` resolving for your explicitly defined `Token` types."
   ],
   "metadata": {
    "collapsed": false,
    "pycharm": {
     "name": "#%% md\n"
    }
   }
  },
  {
   "cell_type": "code",
   "execution_count": null,
   "outputs": [],
   "source": [
    "\n",
    "class SeptSampleDialog(QtGui.QWidget):\n",
    "    def __init__(self, parent=None):\n",
    "        super(SeptSampleDialog, self).__init__(parent)\n",
    "\n",
    "        self.sept_parser = PathTemplateParser(\n",
    "            # We can pass our custom Token classes to the Parser.\n",
    "            additional_tokens=self.get_custom_tokens()\n",
    "        )\n",
    "\n",
    "        self.setLayout(QtGui.QHBoxLayout())\n",
    "\n",
    "        self.preview_widget = PreviewInputWidget(\n",
    "            sept_parser=self.sept_parser,\n",
    "            examples=self.get_examples(),\n",
    "            parent=self\n",
    "        )\n",
    "        self.documentation_widget = DocumentationWidget(\n",
    "            sept_parser=self.sept_parser\n",
    "        )\n",
    "        self.documentation_widget.refreshDocumentation()\n",
    "\n",
    "        self.layout().addWidget(self.preview_widget)\n",
    "        self.layout().addWidget(self.documentation_widget)\n",
    "\n",
    "    def get_custom_tokens(self):\n",
    "        # We can create two new classes that inherit from `sept.Token`\n",
    "        # We need to make sure that we set `name`, `getValue` and \n",
    "        #   provide a useful docstring.\n",
    "        from sept import Token\n",
    "        \n",
    "        class FirstnameToken(Token):\n",
    "            \"\"\"\n",
    "            The <code>firstname</code> Token will return the \"user.first\" value from the data dictionary.\n",
    "            \"\"\"\n",
    "            name = \"firstname\"\n",
    "            def getValue(self, data):\n",
    "                return data.get(\"user\", {}).get(\"first\")\n",
    "\n",
    "        class LastnameToken(Token):\n",
    "            \"\"\"\n",
    "            The <code>lastname</code> Token will return the \"user.last\" value from the data dictionary.\n",
    "            \"\"\"\n",
    "            name = \"lastname\"\n",
    "            def getValue(self, data):\n",
    "                return data.get(\"user\", {}).get(\"last\")\n",
    "\n",
    "        return [FirstnameToken, LastnameToken]\n",
    "\n",
    "    def get_examples(self):\n",
    "        return [\n",
    "            {\n",
    "                \"Project\": \"HeroJourney\",\n",
    "                \"sequence\": \"Battle\",\n",
    "                \"shot\": \"001\",\n",
    "                \"step\": \"comp\",\n",
    "                \"version\": 2,\n",
    "                \"extension\": \"mov\",\n",
    "                \"user\": {\n",
    "                    \"first\": \"Bob\",\n",
    "                    \"last\": \"Davis\",\n",
    "                }\n",
    "            },\n",
    "            {\n",
    "                \"Project\": \"HeroJourney\",\n",
    "                \"sequence\": \"Battle\",\n",
    "                \"shot\": \"002\",\n",
    "                \"step\": \"paint\",\n",
    "                \"version\": 1,\n",
    "                \"extension\": \"mov\",\n",
    "                \"user\": {\n",
    "                    \"first\": \"Kyle\",\n",
    "                    \"last\": \"Simpson\",\n",
    "                }\n",
    "            }\n",
    "        ]\n",
    "..."
   ],
   "metadata": {
    "collapsed": false,
    "pycharm": {
     "name": "#%%\n"
    }
   }
  },
  {
   "cell_type": "markdown",
   "source": [
    "You can now see that we have our two custom `Token` classes automatically added to the `DocumentationWidget`  \n",
    "![Finished Qt Widget](../images/developer_introduction_sample_qt_application_finished_tokens.png)\n",
    "  \n",
    "\n",
    "### Conclusion\n",
    "This is the end of the sample Qt Application tutorial.  \n",
    "The components that you created today are similar to Qt components that have been created in the `sept_qt` repository, however these are simple examples of the widgets you would want to use in production.  \n",
    "The widgets in `sept_qt` contain additional features like helpful error messages and error highlighting.  "
   ],
   "metadata": {
    "collapsed": false,
    "pycharm": {
     "name": "#%% md\n"
    }
   }
  }
 ],
 "metadata": {
  "kernelspec": {
   "display_name": "${KERNEL_SPEC_DISPLAY_NAME}",
   "language": "${KERNEL_SPEC_LANGUAGE}",
   "name": "${KERNEL_SPEC_NAME}"
  },
  "language_info": {
   "codemirror_mode": {
    "name": "ipython",
    "version": 2
   },
   "file_extension": ".py",
   "mimetype": "text/x-python",
   "name": "python",
   "nbconvert_exporter": "python",
   "pygments_lexer": "ipython2",
   "version": "2.7.6"
  },
  "pycharm": {
   "stem_cell": {
    "cell_type": "raw",
    "source": [],
    "metadata": {
     "collapsed": false
    }
   }
  }
 },
 "nbformat": 4,
 "nbformat_minor": 0
}
